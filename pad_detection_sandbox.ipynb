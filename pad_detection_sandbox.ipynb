{
 "cells": [
  {
   "cell_type": "code",
   "execution_count": null,
   "metadata": {},
   "outputs": [],
   "source": [
    "from typing import Tuple\n",
    "import cv2\n",
    "import numpy\n",
    "import numpy.typing\n",
    "import matplotlib.pyplot as plt\n",
    "import os\n",
    "from dataclasses import dataclass"
   ]
  },
  {
   "cell_type": "code",
   "execution_count": null,
   "metadata": {},
   "outputs": [],
   "source": [
    "def read_images(source_dir: str) -> Tuple[list[cv2.Mat], list[str]]:\n",
    "    available_image_files = os.listdir(source_dir)\n",
    "    return [cv2.imread(source_dir + \"\\\\\" + img) for img in available_image_files], available_image_files"
   ]
  },
  {
   "cell_type": "code",
   "execution_count": null,
   "metadata": {},
   "outputs": [],
   "source": [
    "#fazer exibição ao invés de armazenamento\n",
    "def save_filtered_images(dest_dir:str, imgs: list[cv2.Mat], names: list[str]):\n",
    "    for img, name in zip(imgs, names):\n",
    "        plt.imsave(dest_dir+\"\\\\\"+name, img, cmap='gray')"
   ]
  },
  {
   "cell_type": "code",
   "execution_count": null,
   "metadata": {},
   "outputs": [],
   "source": [
    "def display_filtered_images(imgs: list[cv2.Mat], names: list[str]):\n",
    "    for img, name in zip(imgs, names):\n",
    "        plt.imshow(img, cmap='gray')\n",
    "        plt.show()"
   ]
  },
  {
   "cell_type": "code",
   "execution_count": null,
   "metadata": {},
   "outputs": [],
   "source": [
    "# Função auxiliar p vídeo\n",
    "def test_with_video(processing_func, params):\n",
    "    import time\n",
    "    video = cv2.VideoCapture(0)\n",
    "    win = cv2.namedWindow('video')\n",
    "    #deixar mais seguro\n",
    "    while True:\n",
    "        ret, frame = video.read()\n",
    "        result_image = processing_func(frame, params)\n",
    "        cv2.imshow('video', result_image)\n",
    "\n",
    "        if cv2.waitKey(1) & 0xFF == ord('q'):\n",
    "            break\n",
    "        time.sleep(0.01)\n",
    "\n",
    "    video.release()\n",
    "    cv2.destroyAllWindows()"
   ]
  },
  {
   "cell_type": "markdown",
   "metadata": {},
   "source": [
    "## Filtra parte amarela"
   ]
  },
  {
   "cell_type": "code",
   "execution_count": null,
   "metadata": {},
   "outputs": [],
   "source": [
    "@dataclass\n",
    "class YellowFilteringParams:\n",
    "    kernel_size: int\n",
    "    std_dev: int\n",
    "    yellow_min: numpy.ndarray\n",
    "    yellow_max: numpy.ndarray\n",
    "    def set_yellow_min_h(self, val):\n",
    "        self.yellow_min[0] = val\n",
    "    def set_yellow_min_s(self, val):\n",
    "        self.yellow_min[1] = val\n",
    "    def set_yellow_min_v(self, val):\n",
    "        self.yellow_min[2] = val\n",
    "    def set_yellow_max_h(self, val):\n",
    "        self.yellow_min[0] = val\n",
    "    def set_yellow_max_s(self, val):\n",
    "        self.yellow_min[1] = val\n",
    "    def set_yellow_max_v(self, val):\n",
    "        self.yellow_min[2] = val\n",
    "    def set_kernel_size(self, val):\n",
    "        if val % 2 == 0:\n",
    "            return\n",
    "        self.kernel_size = val\n",
    "    def set_std_dev(self, val):\n",
    "        self.std_dev = val        "
   ]
  },
  {
   "cell_type": "code",
   "execution_count": null,
   "metadata": {},
   "outputs": [],
   "source": [
    "working_params = YellowFilteringParams(3, 0, numpy.array([29, 93, 0]), numpy.array([52, 256,256]))"
   ]
  },
  {
   "cell_type": "code",
   "execution_count": null,
   "metadata": {},
   "outputs": [],
   "source": [
    "def filter_yellow(img: cv2.Mat, params: YellowFilteringParams) -> cv2.Mat:\n",
    "    img = cv2.GaussianBlur(img, (params.kernel_size, params.kernel_size), params.std_dev)\n",
    "    img = cv2.cvtColor(img, cv2.COLOR_BGR2HSV_FULL)\n",
    "    yellow_min = params.yellow_min  # valores HSV mínimos\n",
    "    yellow_max = params.yellow_max  # valroes HSV máximos\n",
    "    yellow_region = numpy.where(numpy.all(numpy.logical_and(\n",
    "                numpy.less_equal(yellow_min, img),\n",
    "                numpy.less_equal(img, yellow_max)), axis=2),\n",
    "            255*numpy.ones(img.shape[:2]), 0)\n",
    "    return yellow_region"
   ]
  },
  {
   "cell_type": "code",
   "execution_count": null,
   "metadata": {},
   "outputs": [],
   "source": [
    "test_with_video(filter_yellow, working_params)"
   ]
  },
  {
   "cell_type": "code",
   "execution_count": null,
   "metadata": {},
   "outputs": [],
   "source": [
    "p = working_params\n",
    "#yellow_min=array([29, 93,  0]), yellow_max=array([ 52, 277, 277])\n",
    "# p.yellow_min = numpy.array([29, 93,  0])\n",
    "# p.yellow_max = numpy.array([ 52, 256, 256])\n",
    "img_list, img_names = read_images(\".\\\\Marco de pouso\")\n",
    "yellow_regions = [filter_yellow(img, p) for img in img_list]\n",
    "\n",
    "# save_filtered_images(\".\\\\Filtered landing pads\", yellow_regions, img_names)\n",
    "# display_filtered_images(yellow_regions, img_names)"
   ]
  },
  {
   "cell_type": "markdown",
   "metadata": {},
   "source": [
    "## Extrai contornos da região amarela"
   ]
  },
  {
   "cell_type": "code",
   "execution_count": null,
   "metadata": {},
   "outputs": [],
   "source": [
    "@dataclass\n",
    "class ContourExtractParams:\n",
    "    size_threshold: int\n",
    "    \n",
    "def extract_contours(yellow_region : cv2.Mat, params : ContourExtractParams) -> tuple:\n",
    "    #fazer conversão certa\n",
    "    yellow_region_u8 = yellow_region.astype(numpy.uint8)\n",
    "    #retornar informação de hierarquia p identificação do + tbm?\n",
    "    yellow_contours, hierarchy = cv2.findContours(yellow_region_u8, cv2.RETR_TREE,\n",
    "        cv2.CHAIN_APPROX_NONE)\n",
    "    return tuple(filter(lambda cont: len(cont) > params.size_threshold, yellow_contours))\n",
    "    # return yellow_contours\n",
    "    \n",
    "def draw_contours(yellow_region, size_threshold):\n",
    "    yellow_contours = extract_contours(yellow_region, size_threshold)\n",
    "    yellow_contour_image = numpy.zeros_like(yellow_region)\n",
    "    cv2.drawContours(yellow_contour_image, yellow_contours, -1, 255, 2)\n",
    "    return yellow_contour_image"
   ]
  },
  {
   "cell_type": "code",
   "execution_count": null,
   "metadata": {},
   "outputs": [],
   "source": [
    "yellow_contour_images = [draw_contours(yr, 100) for yr in yellow_regions]\n",
    "yellow_contours = [extract_contours(yr, 100) for yr in yellow_regions]\n",
    "# save_filtered_images(\"Contour images\", yellow_contour_images, img_names)"
   ]
  },
  {
   "cell_type": "code",
   "execution_count": null,
   "metadata": {},
   "outputs": [],
   "source": [
    "test_with_video(lambda x, params: draw_contours(filter_yellow(x, params[0]), params[1]), [working_params, 100])"
   ]
  },
  {
   "cell_type": "code",
   "execution_count": null,
   "metadata": {},
   "outputs": [],
   "source": [
    "cv2.destroyAllWindows()"
   ]
  },
  {
   "cell_type": "markdown",
   "metadata": {},
   "source": [
    "## Fit de elipse a um blob - transformada de Hough"
   ]
  },
  {
   "cell_type": "code",
   "execution_count": null,
   "metadata": {},
   "outputs": [],
   "source": [
    "def fit_ellipse(yellow_contours, residue_thresh):\n",
    "    is_ellipse = []\n",
    "    coef_list = []\n",
    "    centroid = []\n",
    "    for cont in yellow_contours:\n",
    "        positions = numpy.float64(cont.copy())\n",
    "        avg_pos = numpy.mean(positions, axis=0)\n",
    "        positions -= avg_pos\n",
    "        x = positions[:, 0, 0]\n",
    "        y = positions[:, 0, 1]\n",
    "\n",
    "        if not max(abs(x)) < 1e-5:\n",
    "            x /= max(abs(x))\n",
    "        if not max(abs(y)) < 1e-5:\n",
    "            y /= max(abs(y))\n",
    "\n",
    "        try:\n",
    "            coefs, resid, rank, sing = numpy.linalg.lstsq(\n",
    "                numpy.column_stack((x**2, x*y, y**2)), \n",
    "                numpy.ones_like(x), rcond=None)\n",
    "        except numpy.linalg.LinAlgError:\n",
    "            return False, [], numpy.array([-1,-1])\n",
    "\n",
    "        is_ellipse.append(resid <= residue_thresh)\n",
    "        coef_list.append(coefs)\n",
    "        centroid.append(avg_pos)\n",
    "\n",
    "    return is_ellipse, coef_list, centroid\n",
    "\n",
    "def identify_ellipse(yellow_contours, residue_thresh, size):\n",
    "    is_ellipse, coef_list, centroid = fit_ellipse(yellow_contours, residue_thresh)\n",
    "    display_image = numpy.zeros(size)\n",
    "    for is_el, cent in zip(is_ellipse, centroid):\n",
    "        cv2.drawContours(display_image, yellow_contours, -1, 255, 2)\n",
    "        cv2.circle(display_image, [int(cent[0][0]), int(cent[0][1])], 5, 255, -1)\n",
    "    return display_image"
   ]
  },
  {
   "cell_type": "code",
   "execution_count": null,
   "metadata": {},
   "outputs": [],
   "source": [
    "test_with_video(lambda x, params: identify_ellipse(\n",
    "    extract_contours(\n",
    "        filter_yellow(x, params[0]), params[1]\n",
    "    ), params[2], params[3]), [working_params, 200, 100, [480, 640]])"
   ]
  },
  {
   "cell_type": "code",
   "execution_count": null,
   "metadata": {},
   "outputs": [],
   "source": [
    "# ellipses = [fit_ellipse(yc, 100) for yc in yellow_contours]\n",
    "ellipses = [identify_ellipse(yc, 100, yellow_contour_images[0].shape) for yc in yellow_contours]\n",
    "save_filtered_images(\"Ellipses\", ellipses, img_names)"
   ]
  },
  {
   "cell_type": "code",
   "execution_count": null,
   "metadata": {},
   "outputs": [],
   "source": [
    "@dataclass\n",
    "class EllipseTrackerParams:\n",
    "    yellow_filtering: YellowFilteringParams\n",
    "    contour_size_threshold: int\n",
    "    residue_thresh: float\n",
    "    dist_threshold: float\n",
    "    alpha: float\n",
    "\n",
    "class EllipseTracker:\n",
    "    def __init__(self, params : EllipseTrackerParams):\n",
    "        self.last_center_candidates = None\n",
    "        self.params = params\n",
    "        self.best_center = None\n",
    "    def __call__(self, new_image):\n",
    "        is_ellipse, coef_list, centroid = \\\n",
    "            fit_ellipse(extract_contours(\n",
    "                filter_yellow(new_image,\n",
    "                    self.params.yellow_filtering),\n",
    "                self.params.contour_size_threshold),\n",
    "                self.params.residue_thresh\n",
    "        )\n",
    "\n",
    "        candidate_ellipse_centroids = [c for i, c in enumerate(centroid) if is_ellipse[i]]\n",
    "\n",
    "        if self.last_center_candidates is not None and len(self.last_center_candidates) > 0:\n",
    "            candidate_distances = []\n",
    "            for c in candidate_ellipse_centroids:\n",
    "                distances_to_last = [numpy.linalg.norm(c - last) for last in self.last_center_candidates]\n",
    "                candidate_distances.append(min(distances_to_last))\n",
    "            if len(candidate_distances) > 0:\n",
    "                best_index = numpy.argmin(candidate_distances)\n",
    "                self.last_center_candidates = candidate_ellipse_centroids\n",
    "                if self.best_center is None:\n",
    "                    self.best_center = candidate_ellipse_centroids[best_index]\n",
    "                else:\n",
    "                    self.best_center = self.params.alpha * candidate_ellipse_centroids[best_index] \\\n",
    "                                    + (1 - self.params.alpha) * self.best_center\n",
    "                \n",
    "                return self.best_center\n",
    "        \n",
    "        self.last_center_candidates = candidate_ellipse_centroids\n",
    "        return None\n",
    "    \n",
    "    def draw_ellipse(self, new_image, radius):\n",
    "        display_image = new_image.copy()\n",
    "        center = self.__call__(new_image)\n",
    "        if center is not None:\n",
    "            cv2.circle(display_image, numpy.int32(center[0]), radius, (255, 255, 255), -1)\n",
    "        return display_image\n",
    "        "
   ]
  },
  {
   "cell_type": "code",
   "execution_count": null,
   "metadata": {},
   "outputs": [],
   "source": [
    "ellipse_params = EllipseTrackerParams(working_params, 100, 100, 50, 0.5)"
   ]
  },
  {
   "cell_type": "code",
   "execution_count": null,
   "metadata": {},
   "outputs": [],
   "source": [
    "#mudar formato do display\n",
    "cv2.namedWindow(\"Trackbars\")\n",
    "cv2.createTrackbar(\"L-H\", \"Trackbars\", 0, 180, ellipse_params.yellow_filtering.set_yellow_min_h)\n",
    "cv2.createTrackbar(\"L-S\", \"Trackbars\", 0, 255, ellipse_params.yellow_filtering.set_yellow_min_s)\n",
    "cv2.createTrackbar(\"L-V\", \"Trackbars\", 0, 255, ellipse_params.yellow_filtering.set_yellow_min_v)\n",
    "cv2.createTrackbar(\"U-H\", \"Trackbars\", 0, 180,  ellipse_params.yellow_filtering.set_yellow_max_h)\n",
    "cv2.createTrackbar(\"U-S\", \"Trackbars\", 0, 255, ellipse_params.yellow_filtering.set_yellow_max_s)\n",
    "cv2.createTrackbar(\"U-V\", \"Trackbars\", 0, 255, ellipse_params.yellow_filtering.set_yellow_max_v)\n",
    "cv2.createTrackbar(\"Kernel\", \"Trackbars\", 0, 50, ellipse_params.yellow_filtering.set_kernel_size)\n",
    "cv2.createTrackbar(\"std dev\", \"Trackbars\", 0, 20, ellipse_params.yellow_filtering.set_std_dev)\n",
    "\n",
    "tracker = EllipseTracker(ellipse_params)\n",
    "\n",
    "function_to_test = lambda x, radius: tracker.draw_ellipse(x, radius)\n",
    "test_with_video(function_to_test, 5)"
   ]
  },
  {
   "cell_type": "markdown",
   "metadata": {},
   "source": [
    "$$\n",
    "ax^2 + bxy + cy^2 -1 = 0\n",
    "$$\n",
    "$$\n",
    "\\therefore y = \\frac{-bx \\pm \\sqrt{(bx)^2 -4c(ax^2-1)}}{2c}\n",
    "$$"
   ]
  },
  {
   "cell_type": "code",
   "execution_count": null,
   "metadata": {},
   "outputs": [],
   "source": [
    "cv2.destroyAllWindows()"
   ]
  },
  {
   "cell_type": "markdown",
   "metadata": {},
   "source": [
    "## Reconhecimento do mais"
   ]
  },
  {
   "cell_type": "code",
   "execution_count": null,
   "metadata": {},
   "outputs": [],
   "source": [
    "yellow_image = yellow_regions[0]\n",
    "plt.imshow(yellow_image, cmap='gray')\n",
    "type(yellow_image)"
   ]
  },
  {
   "cell_type": "code",
   "execution_count": null,
   "metadata": {},
   "outputs": [],
   "source": [
    "contours = extract_contours(yellow_image, ContourExtractParams(20))"
   ]
  },
  {
   "cell_type": "code",
   "execution_count": null,
   "metadata": {},
   "outputs": [],
   "source": [
    "cont = contours[0]\n",
    "approx = cv2.approxPolyDP(cont, 0.01*cv2.arcLength(cont, True), True)\n",
    "approx"
   ]
  },
  {
   "cell_type": "code",
   "execution_count": null,
   "metadata": {},
   "outputs": [],
   "source": [
    "approx.ravel()"
   ]
  },
  {
   "cell_type": "code",
   "execution_count": null,
   "metadata": {},
   "outputs": [],
   "source": [
    "@dataclass\n",
    "class PlusIdParams:\n",
    "    contour_epsilon:float\n",
    "    minimal_area:float\n",
    "    vertex_count_tolerance:int\n",
    "\n",
    "def identify_plus(contour, params):\n",
    "    approx_polygonal_vertices = cv2.approxPolyDP(contour, params.contour_epsilon * cv2.arcLength(contour, True), True)\n",
    "    M = cv2.moments(contour)\n",
    "    area = M['m00']\n",
    "    if area > params.minimal_area:\n",
    "        cX = int(M[\"m10\"] / M[\"m00\"])\n",
    "        cY = int(M[\"m01\"] / M[\"m00\"])\n",
    "        if abs(len(approx_polygonal_vertices) - 12) < params.vertex_count_tolerance and not cv2.isContourConvex(contour):\n",
    "            return cX, cY\n",
    "    return None\n",
    "\n",
    "def identify_pluses(contours, params):\n",
    "    return [identify_plus(cont, params) for cont in contours]\n",
    "\n",
    "def draw_plus(rgb_img, plusidparams):\n",
    "    yellow_region = filter_yellow(rgb_img, working_params)\n",
    "    contours = extract_contours(yellow_region, ContourExtractParams(20))\n",
    "    pluses = identify_pluses(contours, plusidparams)\n",
    "    display_image = rgb_img.copy()\n",
    "    for plus, cont in zip(pluses, contours):\n",
    "        if plus is not None:\n",
    "            cv2.drawContours(display_image, [cont], -1, (0,0,0), 5)\n",
    "            cv2.circle(display_image, plus, 5, (0, 0, 0), -1)\n",
    "    return display_image"
   ]
  },
  {
   "cell_type": "code",
   "execution_count": null,
   "metadata": {},
   "outputs": [],
   "source": [
    "test_with_video(draw_plus, PlusIdParams(0.01, 400, 2))"
   ]
  },
  {
   "cell_type": "code",
   "execution_count": null,
   "metadata": {},
   "outputs": [],
   "source": [
    "cv2.destroyAllWindows()"
   ]
  },
  {
   "cell_type": "code",
   "execution_count": null,
   "metadata": {},
   "outputs": [],
   "source": [
    "import cv2\n",
    "import numpy as np\n",
    "#import imutils\n",
    "\n",
    "cap = cv2.VideoCapture(0)\n",
    "def nothing(x):\n",
    "    pass\n",
    "\n",
    "cv2.namedWindow(\"Trackbars\")\n",
    "cv2.createTrackbar(\"L-H\", \"Trackbars\", 25, 180, nothing)\n",
    "cv2.createTrackbar(\"L-S\", \"Trackbars\", 60, 255, nothing)\n",
    "cv2.createTrackbar(\"L-V\", \"Trackbars\", 140, 255, nothing)\n",
    "cv2.createTrackbar(\"U-H\", \"Trackbars\", 65, 180, nothing)\n",
    "cv2.createTrackbar(\"U-S\", \"Trackbars\", 255, 255, nothing)\n",
    "cv2.createTrackbar(\"U-V\", \"Trackbars\", 255, 255, nothing)\n",
    "font = cv2.FONT_HERSHEY_SIMPLEX\n",
    "while True:\n",
    "    _, frame = cap.read()\n",
    "    hsv = cv2.cvtColor(frame,cv2.COLOR_BGR2HSV)\n",
    "\n",
    "    lh = cv2.getTrackbarPos(\"L-H\", \"Trackbars\")\n",
    "    ls = cv2.getTrackbarPos(\"L-S\", \"Trackbars\")\n",
    "    lv = cv2.getTrackbarPos(\"L-V\", \"Trackbars\")\n",
    "    uh = cv2.getTrackbarPos(\"U-H\", \"Trackbars\")\n",
    "    us = cv2.getTrackbarPos(\"U-S\", \"Trackbars\")\n",
    "    uv = cv2.getTrackbarPos(\"U-V\", \"Trackbars\")\n",
    "\n",
    "\n",
    "    low_red = np.array([lh, ls, lv])\n",
    "    up_red = np.array([uh, us, uv])\n",
    "    mask = cv2.inRange(hsv, low_red, up_red)\n",
    "    kernel = np.ones((5,5), np.uint8)\n",
    "    mask = cv2.erode(mask, kernel)\n",
    "    contours, _ = cv2.findContours(mask, cv2.RETR_TREE, cv2.CHAIN_APPROX_SIMPLE)\n",
    "    #cnts = imutils.grab_contours(contours)\n",
    "    for cnt in contours:\n",
    "        approx = cv2.approxPolyDP(cnt, 0.01*cv2.arcLength(cnt, True), True)\n",
    "        # compute the center of the contour\n",
    "        x = approx.ravel()[0]\n",
    "        y = approx.ravel()[1]\n",
    "        M = cv2.moments(cnt)\n",
    "        if M[\"m00\"] != 0:\n",
    "            cX = int((M[\"m10\"] / M[\"m00\"]))\n",
    "            cY = int((M[\"m01\"] / M[\"m00\"]))\n",
    "        area = cv2.contourArea(cnt)\n",
    "        if area > 400:\n",
    "            if len(approx) > 10 and len(approx) < 13:\n",
    "                cv2.putText(frame, \"Cruz\", (x,y), font, 2, (0,0,0))\n",
    "            cv2.drawContours(frame, [approx], -1, (0,0,0), 5)\n",
    "\n",
    "\n",
    "    cv2.imshow(\"Frame\", frame)\n",
    "    cv2.imshow(\"Mask\", mask)\n",
    "    key = cv2.waitKey(1)\n",
    "    if key == 27:\n",
    "        break\n",
    "\n",
    "cap.release()\n",
    "cv2.destroyAllWindows()"
   ]
  },
  {
   "cell_type": "markdown",
   "metadata": {},
   "source": [
    "## Landing Pad Detector teste"
   ]
  },
  {
   "cell_type": "code",
   "execution_count": 1,
   "metadata": {},
   "outputs": [],
   "source": [
    "from landing_pad_detector import *\n",
    "import numpy\n",
    "import cv2\n",
    "from typing import List"
   ]
  },
  {
   "cell_type": "code",
   "execution_count": 2,
   "metadata": {},
   "outputs": [],
   "source": [
    "yellow_filter_params = YellowFilterParams(\n",
    "            numpy.array([20, 93, 0]),\n",
    "            numpy.array([52, 256,256])\n",
    ")\n",
    "yellow_filter_trackbar_params = [\n",
    "    TrackbarParams(\"L-H\", 20 , 180, yellow_filter_params.set_yellow_min_h),\n",
    "    TrackbarParams(\"L-S\", 93 , 255, yellow_filter_params.set_yellow_min_s),\n",
    "    TrackbarParams(\"L-V\", 0  , 255, yellow_filter_params.set_yellow_min_v),\n",
    "    TrackbarParams(\"U-H\", 52 , 180, yellow_filter_params.set_yellow_max_h),\n",
    "    TrackbarParams(\"U-S\", 256, 255, yellow_filter_params.set_yellow_max_s),\n",
    "    TrackbarParams(\"U-V\", 256, 255, yellow_filter_params.set_yellow_max_v)\n",
    "]\n",
    "\n",
    "contour_extract_params = ContourExtractParams(50)\n",
    "contour_extract_trackbar_params = [\n",
    "    TrackbarParams(\"SizeThr\", 50, 500, contour_extract_params.set_size_threshold)\n",
    "]\n",
    "\n",
    "ellipse_fit_params = EllipseFitParams(10)\n",
    "ellipse_fit_trackbar_params = [\n",
    "    TrackbarParams(\"ResiThr\", 10, 100, ellipse_fit_params.set_residue_threshold)\n",
    "]\n",
    "\n",
    "plus_identify_params = PlusIdParams(0.01, 400, 2)\n",
    "plus_identify_trackbar_params = [\n",
    "    TrackbarParams(\"eps\", 10, 200, plus_identify_params.set_contour_epsilon),\n",
    "    TrackbarParams(\"minArea\", 400, 1000, plus_identify_params.set_minimal_area),\n",
    "    TrackbarParams(\"VerCTol\", 2, 3, plus_identify_params.set_vertex_count_tolerance)\n",
    "]\n",
    "\n",
    "center_estimate_params = CenterEstimateParams(20)\n",
    "center_estimate_trackbar_params = [\n",
    "    TrackbarParams(\"Tol\", 20, 50, center_estimate_params.set_tolerance)\n",
    "]\n",
    "\n",
    "tracker = Tracker(TrackerParams(0.8, 5, 50))\n",
    "tracker_trackbar_params = [\n",
    "    TrackbarParams(\"Alpha\", 80, 100, tracker.params.set_alpha),\n",
    "    TrackbarParams(\"MaxFwoD\", 5, 10, tracker.params.set_max_frames_wo_detection),\n",
    "    TrackbarParams(\"MaxDeltaPos\", 50, 100, tracker.params.set_max_delta_position)\n",
    "]"
   ]
  },
  {
   "cell_type": "code",
   "execution_count": 11,
   "metadata": {},
   "outputs": [],
   "source": [
    "test_with_video(display_yellow, yellow_filter_params, trackbar_params=yellow_filter_trackbar_params)"
   ]
  },
  {
   "cell_type": "code",
   "execution_count": 12,
   "metadata": {},
   "outputs": [],
   "source": [
    "test_with_video(display_contours, [yellow_filter_params,\n",
    "                                        contour_extract_params], trackbar_params=contour_extract_trackbar_params)"
   ]
  },
  {
   "cell_type": "code",
   "execution_count": 13,
   "metadata": {},
   "outputs": [],
   "source": [
    "test_with_video(display_ellipse, [yellow_filter_params,\n",
    "                                        contour_extract_params,\n",
    "                                        ellipse_fit_params], trackbar_params=ellipse_fit_trackbar_params)"
   ]
  },
  {
   "cell_type": "code",
   "execution_count": 14,
   "metadata": {},
   "outputs": [],
   "source": [
    "test_with_video(display_plus, [yellow_filter_params,\n",
    "                                        contour_extract_params,\n",
    "                                        plus_identify_params], trackbar_params=plus_identify_trackbar_params)"
   ]
  },
  {
   "cell_type": "code",
   "execution_count": 16,
   "metadata": {},
   "outputs": [],
   "source": [
    "test_with_video(display_center, [yellow_filter_params,\n",
    "                                        contour_extract_params,\n",
    "                                        plus_identify_params,\n",
    "                                        ellipse_fit_params,\n",
    "                                        center_estimate_params], trackbar_params=center_estimate_trackbar_params)"
   ]
  },
  {
   "cell_type": "code",
   "execution_count": 4,
   "metadata": {},
   "outputs": [],
   "source": [
    "test_with_video(display_tracker, [yellow_filter_params,\n",
    "                                        contour_extract_params,\n",
    "                                        plus_identify_params,\n",
    "                                        ellipse_fit_params,\n",
    "                                        center_estimate_params,\n",
    "                                        tracker], trackbar_params=tracker_trackbar_params)"
   ]
  },
  {
   "cell_type": "code",
   "execution_count": 47,
   "metadata": {},
   "outputs": [],
   "source": [
    "cv2.destroyAllWindows()"
   ]
  }
 ],
 "metadata": {
  "interpreter": {
   "hash": "fb4569285eef3a3450cb62085a5b1e0da4bce0af555edc33dcf29baf3acc1368"
  },
  "kernelspec": {
   "display_name": "Python 3.10.2 64-bit",
   "language": "python",
   "name": "python3"
  },
  "language_info": {
   "codemirror_mode": {
    "name": "ipython",
    "version": 3
   },
   "file_extension": ".py",
   "mimetype": "text/x-python",
   "name": "python",
   "nbconvert_exporter": "python",
   "pygments_lexer": "ipython3",
   "version": "3.10.2"
  },
  "orig_nbformat": 4
 },
 "nbformat": 4,
 "nbformat_minor": 2
}
